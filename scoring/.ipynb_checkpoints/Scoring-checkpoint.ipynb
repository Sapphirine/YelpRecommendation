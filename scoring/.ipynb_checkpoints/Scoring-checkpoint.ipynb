{
 "cells": [
  {
   "cell_type": "code",
   "execution_count": 1,
   "metadata": {
    "collapsed": true
   },
   "outputs": [],
   "source": [
    "from __future__ import print_function\n",
    "import tensorflow as tf\n",
    "import numpy as np\n",
    "from loaddata import load_data as load\n",
    "from matplotlib import pyplot as plt\n",
    "import os"
   ]
  },
  {
   "cell_type": "markdown",
   "metadata": {},
   "source": [
    "## Data Processing"
   ]
  },
  {
   "cell_type": "code",
   "execution_count": 6,
   "metadata": {
    "collapsed": true
   },
   "outputs": [],
   "source": [
    "from PIL import Image\n",
    "import os, sys\n",
    "\n",
    "path = \"/home/ecbm4040/Bigdata/classification/5\"\n",
    "dirs = os.listdir( path )\n",
    "\n",
    "def resize():\n",
    "    for item in dirs:\n",
    "        if os.path.isfile(path+item):\n",
    "            Image.open(path+item).convert('RGB').save(path+item)\n",
    "            im = Image.open(path+item)\n",
    "            f, e = os.path.splitext(path+item)\n",
    "            imResize = im.resize((224,224), Image.ANTIALIAS)\n",
    "            imResize.save(f + '.jpg', 'JPEG', quality=90)\n",
    "\n",
    "resize()"
   ]
  },
  {
   "cell_type": "code",
   "execution_count": 9,
   "metadata": {
    "collapsed": true
   },
   "outputs": [],
   "source": [
    "path = \"/Users/mikezhao/Downloads/Bigdata/trainbad/\"\n",
    "dirs = os.listdir( path )\n",
    "\n",
    "def resize():\n",
    "    for item in dirs:\n",
    "        if os.path.isfile(path+item):\n",
    "            Image.open(path+item).convert('RGB').save(path+item)\n",
    "            im = Image.open(path+item)\n",
    "            f, e = os.path.splitext(path+item)\n",
    "            imResize = im.resize((256,256), Image.ANTIALIAS)\n",
    "            imResize.save(f + '.jpg', 'JPEG', quality=90)\n",
    "\n",
    "resize()"
   ]
  },
  {
   "cell_type": "code",
   "execution_count": 2,
   "metadata": {},
   "outputs": [
    {
     "name": "stdout",
     "output_type": "stream",
     "text": [
      "(23155, 256, 256, 3)\n",
      "(23155,)\n"
     ]
    }
   ],
   "source": [
    "X_train, y_train, X_test, y_test = load(mode='all')\n",
    "print(X_train.shape)\n",
    "print(y_train.shape)"
   ]
  },
  {
   "cell_type": "code",
   "execution_count": 3,
   "metadata": {},
   "outputs": [
    {
     "name": "stdout",
     "output_type": "stream",
     "text": [
      "(668, 256, 256, 3)\n"
     ]
    }
   ],
   "source": [
    "print(X_test.shape)\n"
   ]
  },
  {
   "cell_type": "code",
   "execution_count": 4,
   "metadata": {},
   "outputs": [
    {
     "name": "stdout",
     "output_type": "stream",
     "text": [
      "(100, 256, 256, 3)\n"
     ]
    }
   ],
   "source": [
    "num_training = 14900\n",
    "num_validation = 100\n",
    "arr = np.arange(15000)\n",
    "np.random.shuffle(arr)\n",
    "X_val = X_train[arr[0:num_validation]]\n",
    "y_val = y_train[arr[0:num_validation]]\n",
    "X_train = X_train[arr[num_validation:]]\n",
    "y_train = y_train[arr[num_validation:]]\n",
    "print(X_val.shape)"
   ]
  },
  {
   "cell_type": "code",
   "execution_count": null,
   "metadata": {
    "scrolled": false
   },
   "outputs": [
    {
     "name": "stdout",
     "output_type": "stream",
     "text": [
      "Building my LeNet. Parameters: \n",
      "conv_featmap=[10, 20]\n",
      "fc_units=[84]\n",
      "conv_kernel_size=[5, 5]\n",
      "pooling_size=[2, 2]\n",
      "l2_norm=0.01\n",
      "seed=2\n",
      "learning_rate=0.01\n",
      "number of batches for training: 116\n",
      "epoch 1 \n",
      "Best validation accuracy! iteration:50 accuracy: 81.0%\n"
     ]
    }
   ],
   "source": [
    "from ecbm4040.neuralnets.alexnet7 import my_training\n",
    "tf.reset_default_graph()\n",
    "my_training(X_train, y_train, X_val, y_val, X_test, \n",
    "         conv_featmap=[10, 20], \n",
    "         fc_units=[84],\n",
    "         conv_kernel_size=[5, 5], \n",
    "         pooling_size=[2, 2],\n",
    "         l2_norm=0.01,\n",
    "         seed=2,\n",
    "         learning_rate=1e-2,\n",
    "         epoch=20,\n",
    "         batch_size=128,\n",
    "         verbose=False,\n",
    "         pre_trained_model=None)"
   ]
  },
  {
   "cell_type": "code",
   "execution_count": 19,
   "metadata": {},
   "outputs": [
    {
     "name": "stdout",
     "output_type": "stream",
     "text": [
      "Building my LeNet. Parameters: \n",
      "conv_featmap=[32, 64]\n",
      "fc_units=[84]\n",
      "conv_kernel_size=[5, 5]\n",
      "pooling_size=[2, 2]\n",
      "l2_norm=0.01\n",
      "seed=2\n",
      "learning_rate=0.01\n",
      "number of batches for training: 179\n",
      "Load the model from: lenet_1513056896\n",
      "INFO:tensorflow:Restoring parameters from model/lenet_1513056896\n",
      "[ 0.93138307  0.00483026  0.74070549  0.01097371  0.69901472  0.09067213\n",
      "  0.8979252   0.56496263  0.98020768  0.34765086  0.09181254  0.98174781\n",
      "  0.99026912  0.01679389  0.18652605  0.04654552  0.5995006   0.17812121\n",
      "  0.02463603  0.30764276  0.01100397  0.9777444   0.90935558  0.2273435\n",
      "  0.1145981   0.72700328  0.22734199  0.86401898  0.2892327   0.85005444\n",
      "  0.17871471  0.49636263  0.38538787  0.22868006  0.53419894  0.95552987\n",
      "  0.46554717  0.94103205  0.09348398  0.95274669  0.9513756   0.96972734]\n",
      "Traning ends. The best valid accuracy is 0. Model named lenet_1513062009.\n"
     ]
    },
    {
     "data": {
      "text/plain": [
       "array([ 0.93138307,  0.00483026,  0.74070549,  0.01097371,  0.69901472,\n",
       "        0.09067213,  0.8979252 ,  0.56496263,  0.98020768,  0.34765086,\n",
       "        0.09181254,  0.98174781,  0.99026912,  0.01679389,  0.18652605,\n",
       "        0.04654552,  0.5995006 ,  0.17812121,  0.02463603,  0.30764276,\n",
       "        0.01100397,  0.9777444 ,  0.90935558,  0.2273435 ,  0.1145981 ,\n",
       "        0.72700328,  0.22734199,  0.86401898,  0.2892327 ,  0.85005444,\n",
       "        0.17871471,  0.49636263,  0.38538787,  0.22868006,  0.53419894,\n",
       "        0.95552987,  0.46554717,  0.94103205,  0.09348398,  0.95274669,\n",
       "        0.9513756 ,  0.96972734], dtype=float32)"
      ]
     },
     "execution_count": 19,
     "metadata": {},
     "output_type": "execute_result"
    }
   ],
   "source": [
    "# YOUR CODE HERE\n",
    "from ecbm4040.neuralnets.alexnet7 import my_training\n",
    "tf.reset_default_graph()\n",
    "my_training(X_train, y_train, X_val, y_val, X_test,\n",
    "         conv_featmap=[32, 64], \n",
    "         fc_units=[84],\n",
    "         conv_kernel_size=[5, 5], \n",
    "         pooling_size=[2, 2],\n",
    "         l2_norm=0.01,\n",
    "         seed=2,\n",
    "         learning_rate=1e-2,\n",
    "         epoch=0,\n",
    "         batch_size=128,\n",
    "         verbose=False,\n",
    "         pre_trained_model='lenet_1513056896')\n"
   ]
  },
  {
   "cell_type": "code",
   "execution_count": 5,
   "metadata": {},
   "outputs": [
    {
     "name": "stdout",
     "output_type": "stream",
     "text": [
      "Building my LeNet. Parameters: \n",
      "conv_featmap=[32, 64]\n",
      "fc_units=[84]\n",
      "conv_kernel_size=[5, 5]\n",
      "pooling_size=[2, 2]\n",
      "l2_norm=0.01\n",
      "seed=2\n",
      "learning_rate=0.01\n",
      "number of batches for training: 178\n",
      "Load the model from: lenet_1513056896\n",
      "INFO:tensorflow:Restoring parameters from model/lenet_1513056896\n",
      "epoch 1 \n",
      "Best validation accuracy! iteration:50 accuracy: 97.41935483870968%\n",
      "[ 0.19587091  0.10599459  0.30174258  0.13043149  0.01314047  0.13612397\n",
      "  0.01699899  0.46622589  0.01094213  0.95038837  0.78662431  0.28382674\n",
      "  0.21084499  0.95372069  0.11940499  0.83049279  0.1947441   0.82808626\n",
      "  0.3319768   0.23749776  0.21177344  0.18326123  0.50468361  0.92276281\n",
      "  0.40263984  0.86169434  0.11760845  0.89782912  0.91448838  0.92501384]\n",
      "Traning ends. The best valid accuracy is 97.41935483870968. Model named lenet_1513238389.\n"
     ]
    },
    {
     "data": {
      "text/plain": [
       "array([ 0.19587091,  0.10599459,  0.30174258,  0.13043149,  0.01314047,\n",
       "        0.13612397,  0.01699899,  0.46622589,  0.01094213,  0.95038837,\n",
       "        0.78662431,  0.28382674,  0.21084499,  0.95372069,  0.11940499,\n",
       "        0.83049279,  0.1947441 ,  0.82808626,  0.3319768 ,  0.23749776,\n",
       "        0.21177344,  0.18326123,  0.50468361,  0.92276281,  0.40263984,\n",
       "        0.86169434,  0.11760845,  0.89782912,  0.91448838,  0.92501384], dtype=float32)"
      ]
     },
     "execution_count": 5,
     "metadata": {},
     "output_type": "execute_result"
    }
   ],
   "source": [
    "# YOUR CODE HERE\n",
    "from ecbm4040.neuralnets.alexnet7 import my_training\n",
    "tf.reset_default_graph()\n",
    "my_training(X_train, y_train, X_val, y_val, X_test,\n",
    "         conv_featmap=[32, 64], \n",
    "         fc_units=[84],\n",
    "         conv_kernel_size=[5, 5], \n",
    "         pooling_size=[2, 2],\n",
    "         l2_norm=0.01,\n",
    "         seed=2,\n",
    "         learning_rate=1e-2,\n",
    "         epoch=0,\n",
    "         batch_size=128,\n",
    "         verbose=False,\n",
    "         pre_trained_model='lenet_1513056896')\n"
   ]
  },
  {
   "cell_type": "code",
   "execution_count": 15,
   "metadata": {},
   "outputs": [
    {
     "name": "stdout",
     "output_type": "stream",
     "text": [
      "Building my LeNet. Parameters: \n",
      "conv_featmap=[32, 64]\n",
      "fc_units=[84]\n",
      "conv_kernel_size=[5, 5]\n",
      "pooling_size=[2, 2]\n",
      "l2_norm=0.01\n",
      "seed=2\n",
      "learning_rate=0.01\n",
      "number of batches for training: 178\n",
      "Load the model from: lenet_1513056896\n",
      "INFO:tensorflow:Restoring parameters from model/lenet_1513056896\n",
      "epoch 1 \n",
      "Best validation accuracy! iteration:50 accuracy: 94.83870967741936%\n",
      "Best validation accuracy! iteration:150 accuracy: 97.41935483870968%\n",
      "70.0\n",
      "Traning ends. The best valid accuracy is 97.41935483870968. Model named lenet_1513270138.\n"
     ]
    },
    {
     "data": {
      "text/plain": [
       "array([ 0.688667  ,  0.6456815 ,  0.07267157,  0.40724036,  0.04641559,\n",
       "        0.79024863,  0.02509135,  0.83773249,  0.01747377,  0.87153447,\n",
       "        0.08773482,  0.07602304,  0.25320584,  0.08449925,  0.40347457,\n",
       "        0.00925992,  0.08154018,  0.45449287,  0.12232608,  0.18852136,\n",
       "        0.8639763 ,  0.50249958,  0.89936584,  0.54640418,  0.88608479,\n",
       "        0.01616034,  0.03843499,  0.05120235,  0.38237306,  0.65032846,\n",
       "        0.01298411,  0.39215097,  0.26199174,  0.05038746,  0.14035213,\n",
       "        0.40501502,  0.57238364,  0.28698483,  0.11697017,  0.01481532,\n",
       "        0.3390837 ,  0.28706327,  0.79228115,  0.03889924,  0.82974446,\n",
       "        0.11986003,  0.55623055,  0.97873366,  0.88447517,  0.14180601,\n",
       "        0.57330132,  0.49726009,  0.10726758,  0.04994325,  0.53585351,\n",
       "        0.64260709,  0.81620371,  0.17430909,  0.10064165,  0.11202174,\n",
       "        0.02770516,  0.32637471,  0.67123234,  0.2407828 ,  0.02220263,\n",
       "        0.12782222,  0.04755598,  0.98730105,  0.02890314,  0.36657891,\n",
       "        0.19983648,  0.62334877,  0.01243741,  0.1349221 ,  0.3208876 ,\n",
       "        0.09053709,  0.21806832,  0.3634305 ,  0.24036978,  0.00878017,\n",
       "        0.75660712,  0.20529962,  0.83648539,  0.42060134,  0.92708153,\n",
       "        0.11557823,  0.38027856,  0.21970652,  0.66728616,  0.31575173,\n",
       "        0.2767598 ,  0.04116406,  0.80775774,  0.01311304,  0.95471913,\n",
       "        0.007663  ,  0.28930444,  0.02905238,  0.31833601,  0.34806171], dtype=float32)"
      ]
     },
     "execution_count": 15,
     "metadata": {},
     "output_type": "execute_result"
    }
   ],
   "source": [
    "# YOUR CODE HERE\n",
    "from ecbm4040.neuralnets.alexnet14 import my_training\n",
    "tf.reset_default_graph()\n",
    "my_training(X_train, y_train, X_val, y_val, X_test[:100], y_test[:100], \n",
    "         conv_featmap=[32, 64], \n",
    "         fc_units=[84],\n",
    "         conv_kernel_size=[5, 5], \n",
    "         pooling_size=[2, 2],\n",
    "         l2_norm=0.01,\n",
    "         seed=2,\n",
    "         learning_rate=1e-2,\n",
    "         epoch=1,\n",
    "         batch_size=128,\n",
    "         verbose=False,\n",
    "         pre_trained_model='lenet_1513056896')\n"
   ]
  },
  {
   "cell_type": "code",
   "execution_count": 10,
   "metadata": {},
   "outputs": [
    {
     "name": "stdout",
     "output_type": "stream",
     "text": [
      "(668, 256, 256, 3)\n"
     ]
    }
   ],
   "source": [
    "print(X_test.shape)"
   ]
  },
  {
   "cell_type": "code",
   "execution_count": null,
   "metadata": {
    "collapsed": true
   },
   "outputs": [],
   "source": []
  }
 ],
 "metadata": {
  "kernelspec": {
   "display_name": "Python 3",
   "language": "python",
   "name": "python3"
  },
  "language_info": {
   "codemirror_mode": {
    "name": "ipython",
    "version": 3
   },
   "file_extension": ".py",
   "mimetype": "text/x-python",
   "name": "python",
   "nbconvert_exporter": "python",
   "pygments_lexer": "ipython3",
   "version": "3.5.4"
  }
 },
 "nbformat": 4,
 "nbformat_minor": 2
}
